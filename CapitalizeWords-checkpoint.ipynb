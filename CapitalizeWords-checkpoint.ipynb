{
 "cells": [
  {
   "cell_type": "markdown",
   "id": "b0200106",
   "metadata": {},
   "source": [
    "# Question 4: Capitalize Words\n",
    "Write a program that accepts a string as input, capitalizes the first letter of each word in the\n",
    "string, and then returns the result string."
   ]
  },
  {
   "cell_type": "code",
   "execution_count": 1,
   "id": "d626d90a",
   "metadata": {},
   "outputs": [
    {
     "name": "stdout",
     "output_type": "stream",
     "text": [
      "Pease input a sentence :i will be joinin teachtogive for traing\n",
      "I  Will  Be  Joinin  Teachtogive  For  Traing\n"
     ]
    }
   ],
   "source": [
    "#Question 4: Capitalize Words\n",
    "#Write a program that accepts a string as input, capitalizes the first letter of each word in the\n",
    "#string, and then returns the result string.\n",
    "\n",
    "\n",
    "def Capitalize():\n",
    "    statement = input(\"Pease input a sentence :\") \n",
    "    words = statement.split()\n",
    "    \n",
    "\n",
    "    capitalword = [word.capitalize() for word in words ]\n",
    " \n",
    "    statementresult = '  '.join(capitalword)\n",
    "    print(statementresult)\n",
    "\n",
    "Capitalize()"
   ]
  }
 ],
 "metadata": {
  "kernelspec": {
   "display_name": "Python 3 (ipykernel)",
   "language": "python",
   "name": "python3"
  },
  "language_info": {
   "codemirror_mode": {
    "name": "ipython",
    "version": 3
   },
   "file_extension": ".py",
   "mimetype": "text/x-python",
   "name": "python",
   "nbconvert_exporter": "python",
   "pygments_lexer": "ipython3",
   "version": "3.11.5"
  }
 },
 "nbformat": 4,
 "nbformat_minor": 5
}
