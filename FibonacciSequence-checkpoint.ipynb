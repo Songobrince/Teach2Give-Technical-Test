{
 "cells": [
  {
   "cell_type": "code",
   "execution_count": 1,
   "id": "d9dc12b5",
   "metadata": {},
   "outputs": [
    {
     "name": "stdout",
     "output_type": "stream",
     "text": [
      "Fibonacci :\n",
      "[0, 1, 1, 2, 3, 5, 8, 13, 21, 34, 55, 89]\n"
     ]
    }
   ],
   "source": [
    "#Question 2: Fibonacci Sequence\n",
    "#Write a program to generate the Fibonacci sequence up to 100.\n",
    "\n",
    "\n",
    "\n",
    "def fibonacci(extend ):\n",
    "    seq = [0, 1]\n",
    "\n",
    "    while seq[-1] + seq[-2] <= extend:\n",
    "        seq.append(seq[-1] + seq[-2])\n",
    "    return seq\n",
    "\n",
    "fibo_100 = fibonacci(100)\n",
    "\n",
    "print(\"Fibonacci :\")\n",
    "print(fibo_100)\n"
   ]
  }
 ],
 "metadata": {
  "kernelspec": {
   "display_name": "Python 3 (ipykernel)",
   "language": "python",
   "name": "python3"
  },
  "language_info": {
   "codemirror_mode": {
    "name": "ipython",
    "version": 3
   },
   "file_extension": ".py",
   "mimetype": "text/x-python",
   "name": "python",
   "nbconvert_exporter": "python",
   "pygments_lexer": "ipython3",
   "version": "3.11.5"
  }
 },
 "nbformat": 4,
 "nbformat_minor": 5
}
