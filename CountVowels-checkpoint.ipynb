{
 "cells": [
  {
   "cell_type": "markdown",
   "id": "adb362e2",
   "metadata": {},
   "source": [
    "# Question 6: Count Vowels\n",
    "Write a program that counts the number of vowels in a sentence."
   ]
  },
  {
   "cell_type": "code",
   "execution_count": 1,
   "id": "e90f3b90",
   "metadata": {},
   "outputs": [
    {
     "name": "stdout",
     "output_type": "stream",
     "text": [
      "Please Enter a statement: i am at home\n",
      "Total number of vowels in the statement is: 5\n"
     ]
    }
   ],
   "source": [
    "def vowels_Count():\n",
    "    statement = input(\"Please Enter a statement: \")\n",
    "\n",
    "    statement = statement.lower()\n",
    "\n",
    "    vowels = ('a', 'e', 'i', 'o', 'u')\n",
    "\n",
    "    count_vowel = 0\n",
    "\n",
    "    for char in statement:\n",
    "        if char in vowels:\n",
    "            count_vowel += 1\n",
    "\n",
    "    print(\"Total number of vowels in the statement is:\", count_vowel)\n",
    "\n",
    "vowels_Count()"
   ]
  }
 ],
 "metadata": {
  "kernelspec": {
   "display_name": "Python 3 (ipykernel)",
   "language": "python",
   "name": "python3"
  },
  "language_info": {
   "codemirror_mode": {
    "name": "ipython",
    "version": 3
   },
   "file_extension": ".py",
   "mimetype": "text/x-python",
   "name": "python",
   "nbconvert_exporter": "python",
   "pygments_lexer": "ipython3",
   "version": "3.11.5"
  }
 },
 "nbformat": 4,
 "nbformat_minor": 5
}
