{
 "cells": [
  {
   "cell_type": "markdown",
   "id": "2223b08a",
   "metadata": {},
   "source": [
    "# Question 5: Reverse Integer\n",
    "\n",
    "Write a program that takes an integer as input and returns an integer with reversed digit\n",
    "ordering."
   ]
  },
  {
   "cell_type": "code",
   "execution_count": 1,
   "id": "40977bad",
   "metadata": {},
   "outputs": [
    {
     "name": "stdout",
     "output_type": "stream",
     "text": [
      " Please Enter a number  3454\n",
      "4543\n"
     ]
    }
   ],
   "source": [
    "\n",
    "def reverse_Integer():\n",
    "\n",
    "    mystatement=input(\" Please Enter a number  \")\n",
    "    reversed_Number= ''.join(reversed(mystatement))\n",
    "    print(reversed_Number)\n",
    "\n",
    "reverse_Integer()"
   ]
  }
 ],
 "metadata": {
  "kernelspec": {
   "display_name": "Python 3 (ipykernel)",
   "language": "python",
   "name": "python3"
  },
  "language_info": {
   "codemirror_mode": {
    "name": "ipython",
    "version": 3
   },
   "file_extension": ".py",
   "mimetype": "text/x-python",
   "name": "python",
   "nbconvert_exporter": "python",
   "pygments_lexer": "ipython3",
   "version": "3.11.5"
  }
 },
 "nbformat": 4,
 "nbformat_minor": 5
}
