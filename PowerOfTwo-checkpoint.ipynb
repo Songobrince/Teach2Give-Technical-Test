{
 "cells": [
  {
   "cell_type": "markdown",
   "id": "b7756bf7",
   "metadata": {},
   "source": [
    "# #Question 3: Power of Two\n",
    "#Write a program that takes an integer as input and returns true if the input is a power of two.\n",
    "\n",
    "#Examples:\n",
    "#8=> returns true\n",
    "#6=> returns false"
   ]
  },
  {
   "cell_type": "code",
   "execution_count": 1,
   "id": "f7f4a104",
   "metadata": {},
   "outputs": [
    {
     "name": "stdout",
     "output_type": "stream",
     "text": [
      "Please enter a number:\n",
      "42\n",
      "False\n"
     ]
    }
   ],
   "source": [
    "#Question 3: Power of Two\n",
    "#Write a program that takes an integer as input and returns true if the input is a power of two.\n",
    "\n",
    "#Examples:\n",
    "#8=> returns true\n",
    "#6=> returns false\n",
    "\n",
    "\n",
    "\n",
    "def isPowerofTwo(y):\n",
    "    return y > 0 and (y & (y- 1)) == 0\n",
    "\n",
    "def power():\n",
    "    print(\"Please enter a number:\")\n",
    "    userinput = int(input())\n",
    "\n",
    "    if isPowerofTwo(userinput):\n",
    "        return True  \n",
    "    \n",
    "    else:\n",
    "        return False \n",
    "\n",
    "print(power())"
   ]
  }
 ],
 "metadata": {
  "kernelspec": {
   "display_name": "Python 3 (ipykernel)",
   "language": "python",
   "name": "python3"
  },
  "language_info": {
   "codemirror_mode": {
    "name": "ipython",
    "version": 3
   },
   "file_extension": ".py",
   "mimetype": "text/x-python",
   "name": "python",
   "nbconvert_exporter": "python",
   "pygments_lexer": "ipython3",
   "version": "3.11.5"
  }
 },
 "nbformat": 4,
 "nbformat_minor": 5
}
